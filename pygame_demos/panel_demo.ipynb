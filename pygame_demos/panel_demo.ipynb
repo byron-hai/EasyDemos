{
 "cells": [
  {
   "cell_type": "code",
   "execution_count": 1,
   "metadata": {},
   "outputs": [
    {
     "name": "stdout",
     "output_type": "stream",
     "text": [
      "pygame 2.0.3 (SDL 2.0.16, Python 3.8.5)\n",
      "Hello from the pygame community. https://www.pygame.org/contribute.html\n"
     ]
    }
   ],
   "source": [
    "import os\n",
    "import pygame\n",
    "import pygame_gui\n",
    "from pygame_gui.elements import UIPanel, UIButton\n",
    "from pygame_gui import UIManager, PackageResource\n",
    "\n",
    "\n",
    "class Simulator:\n",
    "    DEFAULT_SIZE = (800, 600)\n",
    "    def __init__(self):\n",
    "        self.ui_manager = None\n",
    "        self.panel_br = None\n",
    "        self.tc_button = None\n",
    "        # self.hello_button = None\n",
    "        # 必须是所有pygame相关操作之前调用\n",
    "\n",
    "        pygame.init()\n",
    "        pygame.display.set_caption('Quick Start')\n",
    "        os.environ['SDL_VIDEO_CENTERED'] = \"1\"\n",
    "\n",
    "    def init_panel(self):\n",
    "        self.ui_manager = UIManager(self.DEFAULT_SIZE)\n",
    "        panel_rect = pygame.Rect(0, 0, 200, 300)\n",
    "        button_rect = pygame.Rect(0, 0, 60, 30)\n",
    "\n",
    "#         panel_rect.bottomright = (-220, -330)\n",
    "        self.panel_br = UIPanel(panel_rect,\n",
    "                                starting_layer_height=10,\n",
    "                                manager=self.ui_manager,\n",
    "                                object_id='#panel_br')\n",
    "        self.tc_button = UIButton(relative_rect=button_rect, text=\"Button\", \n",
    "                                  manager=self.ui_manager, container=self.panel_br)\n",
    "\n",
    "    def run(self):\n",
    "        # button_layout_rect = pygame.Rect(0, 0, 100, 50)\n",
    "        # button_layout_rect.topright = (-30, 20)\n",
    "        # self.hello_button = pygame_gui.elements.UIButton(relative_rect=button_layout_rect,\n",
    "        #                                             text='Say Hello',\n",
    "        #                                             manager=ui_manager,\n",
    "        #                                             anchors={'right': 'right', 'top': 'top'})\n",
    "        window_surface = pygame.display.set_mode(self.DEFAULT_SIZE, flags=pygame.RESIZABLE)\n",
    "        background = pygame.Surface(self.DEFAULT_SIZE)\n",
    "        background.fill(pygame.Color('#000000'))\n",
    "\n",
    "        clock = pygame.time.Clock()\n",
    "        is_running = True\n",
    "\n",
    "        while is_running:\n",
    "            time_delta = clock.tick(60)/1000.0\n",
    "            for event in pygame.event.get():\n",
    "                if event.type == pygame.QUIT:\n",
    "                    is_running = False\n",
    "                    break\n",
    "\n",
    "#                 if event.type == pygame_gui.UI_BUTTON_PRESSED:\n",
    "                if event.type == pygame.USEREVENT and event.user_type == pygame_gui.UI_BUTTON_PRESSED:\n",
    "                      if event.ui_element == self.tc_button:\n",
    "                          print('Hello World!')\n",
    "\n",
    "                self.ui_manager.process_events(event)\n",
    "\n",
    "            self.ui_manager.update(time_delta)\n",
    "            window_surface.blit(background, (0, 0))\n",
    "            self.ui_manager.draw_ui(window_surface)  # panel draw on top level\n",
    "            pygame.display.update()"
   ]
  },
  {
   "cell_type": "code",
   "execution_count": 2,
   "metadata": {},
   "outputs": [
    {
     "name": "stdout",
     "output_type": "stream",
     "text": [
      "Hello World!\n",
      "Hello World!\n"
     ]
    }
   ],
   "source": [
    "simulator = Simulator()\n",
    "simulator.init_panel()\n",
    "simulator.run()"
   ]
  }
 ],
 "metadata": {
  "kernelspec": {
   "display_name": "Python 3",
   "language": "python",
   "name": "python3"
  },
  "language_info": {
   "codemirror_mode": {
    "name": "ipython",
    "version": 3
   },
   "file_extension": ".py",
   "mimetype": "text/x-python",
   "name": "python",
   "nbconvert_exporter": "python",
   "pygments_lexer": "ipython3",
   "version": "3.8.5"
  }
 },
 "nbformat": 4,
 "nbformat_minor": 4
}
